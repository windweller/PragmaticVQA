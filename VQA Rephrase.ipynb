{
 "cells": [
  {
   "cell_type": "markdown",
   "metadata": {},
   "source": [
    "# VQA Rephrase\n",
    "\n",
    "Here we try to rephrase some of the questions in simple manner\n",
    "\n",
    "Notes:\n",
    "1. It seems that we can only rephrase a portion of these questions...\n",
    "  - \"Is their hair long or short?\" (even though answer is \"other\", we can't quite rephrase this)\n",
    "  \n",
    "Initial thoughts on rules:\n",
    "1. Let's grab \"What ... is\" or \"What ... does\" or \"What ... are\", \"What .... do\" -- grab the \"AUX\" verb from the POS tagging, use it as the first word of the question, capitalize it.\n",
    "2. \"Is/Are/Does/Do NOUN ...\", so we need to find either a noun or a pronoun right after moving \"AUX\" verb. What does this NOUN look like? It can also be \"Is/Are/Does/Do ... VERB NOUN\", then we need to know if the verb is transitive or not.\n",
    "  - We divide this into three situations and conquer\n",
    "  - Situation 1: \"AUX ...\" no verb after AUX, then we directly attach the answer! Is the bowl ANSWER (brown)? is the name of this Inn hobo inn? \n",
    "  - Situation 1a: \"AUX PREP PHRASE\" (AUX + propositional phrase) like \"What kind of vehicle is on the left?\" --> \"Is on the left?\", then instead of adding answer to the end, we add it to the \"Is there a truck on the left?\". Similarly \"Is the lamp post ANSWER(yellow) on the left side?\"\n",
    "  - Situation 2: \"AUX ... VERB ...\" with a verb\n",
    "  - Situation 2a: verb is transitive, we directly add answer to it.\n",
    "  - Situation 2b: verb is intransitive\n",
    "3. Adding the answer\n",
    "  - \"AUX DET\", then we just append the answer\n",
    "  - \"AUX PRON [ANS]\" or just \"AUX [ANS] PP\" if the answer if NOUN and singular, we need to add \"a\" or \"an\" to it, plural nouns are fine"
   ]
  },
  {
   "cell_type": "code",
   "execution_count": 1,
   "metadata": {},
   "outputs": [],
   "source": [
    "import spacy"
   ]
  },
  {
   "cell_type": "code",
   "execution_count": 2,
   "metadata": {},
   "outputs": [],
   "source": [
    "nlp = spacy.load(\"en_core_web_sm\")"
   ]
  },
  {
   "cell_type": "code",
   "execution_count": 56,
   "metadata": {},
   "outputs": [],
   "source": [
    "from nltk.stem import WordNetLemmatizer\n",
    "\n",
    "wnl = WordNetLemmatizer()\n",
    "\n",
    "def is_noun_plural(word):\n",
    "    lemma = wnl.lemmatize(word, 'n')\n",
    "    plural = True if word is not lemma else False\n",
    "    return plural, lemma"
   ]
  },
  {
   "cell_type": "code",
   "execution_count": 4,
   "metadata": {},
   "outputs": [
    {
     "data": {
      "text/plain": [
       "(True, 'apple')"
      ]
     },
     "execution_count": 4,
     "metadata": {},
     "output_type": "execute_result"
    }
   ],
   "source": [
    "isplural(\"apples\")"
   ]
  },
  {
   "cell_type": "code",
   "execution_count": 5,
   "metadata": {},
   "outputs": [],
   "source": [
    "from prettytable import PrettyTable"
   ]
  },
  {
   "cell_type": "code",
   "execution_count": 6,
   "metadata": {},
   "outputs": [],
   "source": [
    "def display(data, ranges, what_only=True):\n",
    "    x = PrettyTable()\n",
    "    x.field_names = [\"Question\", \"Answer1\", \"Answer2\"]\n",
    "    for idx in ranges:\n",
    "        if 'What' in data[idx]['question']:\n",
    "            x.add_row([data[idx]['question'], data[idx]['answer1'], data[idx]['answer2']])\n",
    "    print(x)"
   ]
  },
  {
   "cell_type": "code",
   "execution_count": 7,
   "metadata": {},
   "outputs": [],
   "source": [
    "def search(data, search_word, limit=5):\n",
    "    x = PrettyTable()\n",
    "    cnt = 0\n",
    "    for d in data:\n",
    "        if search_word in d['question']:\n",
    "            x.add_row([d['question'], d['answer1'], d['answer2']])\n",
    "            cnt += 1\n",
    "        if cnt == limit:\n",
    "            break\n",
    "    print(x)"
   ]
  },
  {
   "cell_type": "code",
   "execution_count": 8,
   "metadata": {},
   "outputs": [],
   "source": [
    "import json\n",
    "train_data = json.load(open('./data/vqa/pragmatic_other_train.json'))\n",
    "val_data = json.load(open('./data/vqa/pragmatic_other_val.json'))"
   ]
  },
  {
   "cell_type": "code",
   "execution_count": 53,
   "metadata": {},
   "outputs": [
    {
     "data": {
      "text/plain": [
       "{'question': 'What type of fruit is in the bottom right corner?',\n",
       " 'answer1': 'apples',\n",
       " 'image1': 472405,\n",
       " 'answer2': 'orange',\n",
       " 'image2': 258073,\n",
       " 'answer_type1': 'other',\n",
       " 'answer_type2': 'other',\n",
       " 'question_type': 'what type of'}"
      ]
     },
     "execution_count": 53,
     "metadata": {},
     "output_type": "execute_result"
    }
   ],
   "source": [
    "train_data[0]"
   ]
  },
  {
   "cell_type": "code",
   "execution_count": 54,
   "metadata": {},
   "outputs": [
    {
     "data": {
      "text/plain": [
       "{'question': 'Is their hair long or short?',\n",
       " 'answer1': 'short',\n",
       " 'image1': 520590,\n",
       " 'answer2': 'long',\n",
       " 'image2': 155268,\n",
       " 'answer_type1': 'other',\n",
       " 'answer_type2': 'other',\n",
       " 'question_type': 'is'}"
      ]
     },
     "execution_count": 54,
     "metadata": {},
     "output_type": "execute_result"
    }
   ],
   "source": [
    "train_data[1]"
   ]
  },
  {
   "cell_type": "code",
   "execution_count": 84,
   "metadata": {},
   "outputs": [
    {
     "name": "stdout",
     "output_type": "stream",
     "text": [
      "+----------------------------------------------------+------------------+-----------------+\n",
      "|                      Question                      |     Answer1      |     Answer2     |\n",
      "+----------------------------------------------------+------------------+-----------------+\n",
      "| What type of fruit is in the bottom right corner?  |      apples      |      orange     |\n",
      "|             What type of food is this?             |     sandwich     |      pizza      |\n",
      "|              What color is the plate?              |  blue and white  |      white      |\n",
      "|   What type of meat do you see in the sandwich?    |     chicken      |       ham       |\n",
      "|    What color is the spot below the cat's nose?    |      black       |      white      |\n",
      "|       What does the photo say at the bottom?       |    dutchsimba    |     nothing     |\n",
      "|              What color is the bowl?               |      brown       |      white      |\n",
      "|          What does it say on the ground?           |     no entry     |      clear      |\n",
      "|   What color is the lamp post on the left side?    |      yellow      |       gray      |\n",
      "|      What kind of bike is this person riding?      |  mountain bike   |    motorcycle   |\n",
      "|            What is on the window sill?             | apple and banana |       cat       |\n",
      "|             What color is the trailer?             |      orange      |      white      |\n",
      "|        What kind of vehicle is on the left?        |      truck       |      train      |\n",
      "|           What kind of tools are these?            |     wrenches     |    toothbrush   |\n",
      "|            What is covering the ground?            |       snow       |       sand      |\n",
      "|              What kind of bird is it?              |       crow       |     seagull     |\n",
      "|             What is in the dogs mouth?             |     frisbee      |    teddy bear   |\n",
      "|             What time of day is this?              |     evening      |    afternoon    |\n",
      "|             What are the people doing?             |      skiing      |   snowboarding  |\n",
      "|             What drink is in the can?              |  hawaiian punch  |       soda      |\n",
      "|       What is the hot dog sitting on top of?       |      paper       |       bun       |\n",
      "|             What color are the walls?              |      white       |      green      |\n",
      "|              What shape is the kite?               |     triangle     |     hexagon     |\n",
      "|             What is the animal doing?              |   laying down    |     standing    |\n",
      "|            What is the source of heat?             |     radiator     |      heater     |\n",
      "|              What brand are the mice?              |       dell       |     logitech    |\n",
      "|           What is in the player's hands?           |   baseball bat   |       mitt      |\n",
      "|                 What room is this?                 |     kitchen      |      office     |\n",
      "|              What color is the sink?               |      silver      |      white      |\n",
      "|               What color is the sky?               |       blue       |       gray      |\n",
      "|         What letters are on the airplane?          |       klm        |     jetblue     |\n",
      "|        What kinds of meat on this sandwich?        |       beef       |     chicken     |\n",
      "|        What color is the cat of the fridge?        |      calico      | white and brown |\n",
      "|             What are the people doing?             |    sunbathing    |   flying kites  |\n",
      "|       What color are most of the umbrellas?        |      orange      |       blue      |\n",
      "|           What type of sandwich is this?           |       ham        |       tuna      |\n",
      "|               What is this vehicle?                |    motorcycle    |       bike      |\n",
      "| What part of the newspaper is the baby looking at? |      comics      |       ads       |\n",
      "|       What is the flag on the tallest pole?        |     american     |     chinese     |\n",
      "|         What gender is holding the remote?         |       male       | male and female |\n",
      "|     What color is the man on the left's shirt?     |       pink       |      white      |\n",
      "|        What's about the outlet on the wall?        |      switch      |      light      |\n",
      "|        What is the purpose of the umbrella?        |      shade       |    protection   |\n",
      "|           What does the little chain do?           |  open and close  |     no chain    |\n",
      "|           What is on top of the steeple?           |      cross       |      point      |\n",
      "|        What does the boy have in his hand?         |    wii remote    |    cell phone   |\n",
      "|             What color is the cupcake?             |      orange      |      white      |\n",
      "|             What color is the frisbee?             |      yellow      |       blue      |\n",
      "|         What is on the wrist of the women?         |      watch       |     nothing     |\n",
      "|            What animal is in the photo?            |      sheep       |      horse      |\n",
      "|           What is between the elephant?            |       food       |     nothing     |\n",
      "+----------------------------------------------------+------------------+-----------------+\n"
     ]
    }
   ],
   "source": [
    "display(train_data, range(60))"
   ]
  },
  {
   "cell_type": "code",
   "execution_count": 98,
   "metadata": {},
   "outputs": [
    {
     "name": "stdout",
     "output_type": "stream",
     "text": [
      "+---------------------------------------------------------------+--------------+-----------+\n",
      "|                            Field 1                            |   Field 2    |  Field 3  |\n",
      "+---------------------------------------------------------------+--------------+-----------+\n",
      "|                   How supplied these banana?                  |     dole     |  chiquita |\n",
      "|                      How is the weather?                      |    cloudy    |   sunny   |\n",
      "|                  How tall are the buildings?                  |     very     | very tall |\n",
      "|              How does the dog carry his Frisbee?              | in his mouth |   mouth   |\n",
      "| How would you describe the pattern of the little girls dress? |   tye dye    |    dots   |\n",
      "|          How far does the water come up on the bears?         |    chest     |   ankles  |\n",
      "|                   How bright is the laptop?                   | very bright  |   bright  |\n",
      "|                  How is the mouth of the man?                 |    weird     |   closed  |\n",
      "|            How can you tell if the water is moving?           |    waves     |  ripples  |\n",
      "|                     How calm is the water?                    |     calm     |  not calm |\n",
      "|                        How is the sky?                        |    clear     |   cloudy  |\n",
      "|                      How do you eat this?                     |  with fork   |   hands   |\n",
      "|             How can you tell this is a warm place?            |  palm trees  |   beach   |\n",
      "|        How are the yellow and green vegetables similar?       |    squash    |    cut    |\n",
      "|  How is the photographer positioned in relation to the plane? |    below     |   above   |\n",
      "+---------------------------------------------------------------+--------------+-----------+\n"
     ]
    }
   ],
   "source": [
    "search(train_data, 'How', limit=15)"
   ]
  },
  {
   "cell_type": "code",
   "execution_count": 96,
   "metadata": {},
   "outputs": [
    {
     "name": "stdout",
     "output_type": "stream",
     "text": [
      "+-----------------------------------------------------------------+------------------------+-----------------------------+\n",
      "|                             Field 1                             |        Field 2         |           Field 3           |\n",
      "+-----------------------------------------------------------------+------------------------+-----------------------------+\n",
      "|                     What is given off light?                    |        lantern         |             lamp            |\n",
      "|     What does the sign above the walkway give directions to?    |        platform        | street league skateboarding |\n",
      "|      What color glow do the large recessed lights give off?     |         yellow         |            purple           |\n",
      "|                  What vehicle gives this view?                  |        airplane        |             bike            |\n",
      "|              What toy has the elephant been given?              |          ball          |            tires            |\n",
      "|                What did the girl give to the man?               |        flowers         |            drink            |\n",
      "|                Who was this teddy bear given to?                |        michael         |            child            |\n",
      "| What directions are given on the road sign towards top of foot? |       east west        |            south            |\n",
      "|          What part of the guy's body gives him trouble?         |          knee          |             legs            |\n",
      "|         Which color chair gives the best view of the TV?        |          red           |            black            |\n",
      "|       What directions are being given on the yellow sign?       | no stopping or staging |         no stopping         |\n",
      "|       What home security business has given the mousepad?       |          adp           |             adt             |\n",
      "|               What message is given to the skiers?              |        warning         |           parking           |\n",
      "|            How could you give this bath more privacy?           |        curtains        |             door            |\n",
      "+-----------------------------------------------------------------+------------------------+-----------------------------+\n"
     ]
    }
   ],
   "source": [
    "search(train_data, 'give', limit=20)"
   ]
  },
  {
   "cell_type": "code",
   "execution_count": 9,
   "metadata": {},
   "outputs": [],
   "source": [
    "def show_pos(sent):\n",
    "    print(sent)\n",
    "    print(\" \".join([token.pos_ for token in nlp(sent)]))"
   ]
  },
  {
   "cell_type": "code",
   "execution_count": 30,
   "metadata": {},
   "outputs": [
    {
     "name": "stdout",
     "output_type": "stream",
     "text": [
      "What color is the lamp post on the left side?\n",
      "DET NOUN AUX DET NOUN NOUN ADP DET ADJ NOUN PUNCT\n"
     ]
    }
   ],
   "source": [
    "show_pos(\"What color is the lamp post on the left side?\")"
   ]
  },
  {
   "cell_type": "code",
   "execution_count": 31,
   "metadata": {},
   "outputs": [
    {
     "name": "stdout",
     "output_type": "stream",
     "text": [
      "What type of food is this?\n",
      "DET NOUN ADP NOUN AUX DET PUNCT\n"
     ]
    }
   ],
   "source": [
    "show_pos(\"What type of food is this?\")"
   ]
  },
  {
   "cell_type": "code",
   "execution_count": 32,
   "metadata": {},
   "outputs": [
    {
     "name": "stdout",
     "output_type": "stream",
     "text": [
      "What does it say on the ground?\n",
      "PRON AUX PRON VERB ADP DET NOUN PUNCT\n"
     ]
    }
   ],
   "source": [
    "show_pos(\"What does it say on the ground?\")"
   ]
  },
  {
   "cell_type": "code",
   "execution_count": 73,
   "metadata": {},
   "outputs": [
    {
     "name": "stdout",
     "output_type": "stream",
     "text": [
      "What kind of vehicle is on the left?\n",
      "DET NOUN ADP NOUN AUX ADP DET NOUN PUNCT\n"
     ]
    }
   ],
   "source": [
    "show_pos(\"What kind of vehicle is on the left?\")"
   ]
  },
  {
   "cell_type": "code",
   "execution_count": 33,
   "metadata": {},
   "outputs": [
    {
     "name": "stdout",
     "output_type": "stream",
     "text": [
      "What type of meat do you see in the sandwich?\n",
      "DET NOUN ADP NOUN AUX PRON VERB ADP DET NOUN PUNCT\n"
     ]
    }
   ],
   "source": [
    "show_pos(\"What type of meat do you see in the sandwich?\")"
   ]
  },
  {
   "cell_type": "code",
   "execution_count": 34,
   "metadata": {},
   "outputs": [
    {
     "name": "stdout",
     "output_type": "stream",
     "text": [
      "What kind of bike is this person riding?\n",
      "DET NOUN ADP NOUN AUX DET NOUN VERB PUNCT\n"
     ]
    }
   ],
   "source": [
    "show_pos(\"What kind of bike is this person riding?\")"
   ]
  },
  {
   "cell_type": "code",
   "execution_count": 51,
   "metadata": {},
   "outputs": [
    {
     "name": "stdout",
     "output_type": "stream",
     "text": [
      "What is covering the ground?\n",
      "PRON AUX VERB DET NOUN PUNCT\n"
     ]
    }
   ],
   "source": [
    "show_pos(\"What is covering the ground?\")"
   ]
  },
  {
   "cell_type": "code",
   "execution_count": 74,
   "metadata": {},
   "outputs": [
    {
     "name": "stdout",
     "output_type": "stream",
     "text": [
      "What are the people doing?\n",
      "PRON AUX DET NOUN VERB PUNCT\n"
     ]
    }
   ],
   "source": [
    "show_pos(\"What are the people doing?\")"
   ]
  },
  {
   "cell_type": "code",
   "execution_count": 82,
   "metadata": {},
   "outputs": [
    {
     "name": "stdout",
     "output_type": "stream",
     "text": [
      "What is the hot dog sitting on top of?\n",
      "PRON AUX DET ADJ NOUN VERB ADP NOUN ADP PUNCT\n"
     ]
    }
   ],
   "source": [
    "show_pos(\"What is the hot dog sitting on top of?\")"
   ]
  },
  {
   "cell_type": "code",
   "execution_count": 85,
   "metadata": {},
   "outputs": [
    {
     "name": "stdout",
     "output_type": "stream",
     "text": [
      "What is between the elephant?\n",
      "PRON AUX ADP DET NOUN PUNCT\n"
     ]
    }
   ],
   "source": [
    "show_pos(\"What is between the elephant?\")"
   ]
  },
  {
   "cell_type": "code",
   "execution_count": 99,
   "metadata": {},
   "outputs": [
    {
     "name": "stdout",
     "output_type": "stream",
     "text": [
      "What is given off light?\n",
      "PRON AUX VERB ADP NOUN PUNCT\n"
     ]
    }
   ],
   "source": [
    "show_pos(\"What is given off light?\")"
   ]
  },
  {
   "cell_type": "code",
   "execution_count": 100,
   "metadata": {},
   "outputs": [
    {
     "name": "stdout",
     "output_type": "stream",
     "text": [
      "What did the girl give to the man? \n",
      "PRON AUX DET NOUN VERB ADP DET NOUN PUNCT\n"
     ]
    }
   ],
   "source": [
    "show_pos(\"What did the girl give to the man?\")"
   ]
  },
  {
   "cell_type": "code",
   "execution_count": 102,
   "metadata": {},
   "outputs": [
    {
     "name": "stdout",
     "output_type": "stream",
     "text": [
      "What color is the bowl with a handle?\n",
      "DET NOUN AUX DET NOUN ADP DET NOUN PUNCT\n"
     ]
    }
   ],
   "source": [
    "show_pos(\"What color is the bowl with a handle?\")"
   ]
  },
  {
   "cell_type": "code",
   "execution_count": 57,
   "metadata": {},
   "outputs": [
    {
     "data": {
      "text/plain": [
       "(True, 'apple')"
      ]
     },
     "execution_count": 57,
     "metadata": {},
     "output_type": "execute_result"
    }
   ],
   "source": [
    "is_noun_plural(\"apples\")"
   ]
  },
  {
   "cell_type": "code",
   "execution_count": 59,
   "metadata": {},
   "outputs": [
    {
     "data": {
      "text/plain": [
       "(False, 'klm')"
      ]
     },
     "execution_count": 59,
     "metadata": {},
     "output_type": "execute_result"
    }
   ],
   "source": [
    "is_noun_plural(\"klm\")"
   ]
  },
  {
   "cell_type": "code",
   "execution_count": 10,
   "metadata": {},
   "outputs": [],
   "source": [
    "def check_verb(token):\n",
    "    \"\"\"Check verb type given spacy token\"\"\"\n",
    "    if token.pos_ == 'VERB':\n",
    "        indirect_object = False\n",
    "        direct_object = False\n",
    "        for item in token.children:\n",
    "            if(item.dep_ == \"iobj\" or item.dep_ == \"pobj\"):\n",
    "                indirect_object = True\n",
    "            if (item.dep_ == \"dobj\" or item.dep_ == \"dative\"):\n",
    "                direct_object = True\n",
    "        if indirect_object and direct_object:\n",
    "            return 'DITRANVERB'\n",
    "        elif direct_object and not indirect_object:\n",
    "            return 'TRANVERB'\n",
    "        elif not direct_object and not indirect_object:\n",
    "            return 'INTRANVERB'\n",
    "        else:\n",
    "            return 'VERB'\n",
    "    else:\n",
    "        return token.pos_"
   ]
  },
  {
   "cell_type": "code",
   "execution_count": 60,
   "metadata": {},
   "outputs": [],
   "source": [
    "from copy import copy\n",
    "\n",
    "def join_cap_sent(list_of_words, answer):\n",
    "    # We unify AUX verb with answer plurality here\n",
    "    # because different answer has different plurality!\n",
    "    aux_verb = unify_answer(answer, list_of_words[0])\n",
    "    list_of_words[0] = aux_verb\n",
    "    \n",
    "    return \" \".join(list_of_words).capitalize()\n",
    "\n",
    "def check_pron_or_noun_before_verb(pos_start_from_aux):\n",
    "    pron_idx, noun_idx = -1, -1\n",
    "    if 'PRON' in pos_start_from_aux:\n",
    "        pron_idx = pos_start_from_aux.index(\"PRON\")\n",
    "    if 'NOUN' in pos_start_from_aux:\n",
    "        noun_idx = pos_start_from_aux.index(\"NOUN\")\n",
    "        \n",
    "    pron_or_noun_idx = min(noun_idx, pron_idx)\n",
    "    \n",
    "    verb_idx = pos_start_from_aux.index(\"VERB\")\n",
    "    return pron_or_noun_idx < verb_idx\n",
    "\n",
    "def check_adp_immediately_after_verb(pos_start_from_aux):\n",
    "    # this can suggest transitivity\n",
    "    # \"sitting on top of\" vs \"riding\" / \"say\"\n",
    "    adp_idx = -1\n",
    "    if 'ADP' in pos_start_from_aux:\n",
    "        adp_idx = pos_start_from_aux.index(\"ADP\")\n",
    "    verb_idx = pos_start_from_aux.index(\"VERB\")\n",
    "    return adp_idx - verb_idx == 1\n",
    "\n",
    "def get_right_most_idx(pos_start_from_aux, pos_tag):\n",
    "    return next(i for i in reversed(range(len(pos_start_from_aux))) if pos_start_from_aux[i] == pos_tag)\n",
    "\n",
    "aux_verb_get_dual = {\n",
    "    \"is\": \"are\",\n",
    "    \"are\": \"is\",\n",
    "    \"does\": \"do\",\n",
    "    \"do\": \"does\"\n",
    "}\n",
    "\n",
    "def unify_answer(answer, aux_verb):\n",
    "    noun_plural, _ = is_noun_plural(answer)\n",
    "    if noun_plural and aux_verb in {'is', 'does'}:\n",
    "        aux_verb = aux_verb_get_dual[aux_verb]\n",
    "    if not noun_plural and aux_verb in {'are', 'do'}:\n",
    "        aux_verb = aux_verb_get_dual[aux_verb]\n",
    "    return aux_verb\n",
    "    \n",
    "def rephrase(question, answer1, answer2):\n",
    "    \"\"\"\n",
    "    Return (pragmatic_question1, pragmatic_question2) or (None, None)\n",
    "    \"\"\"\n",
    "    nlp_sent = nlp(question)\n",
    "    \n",
    "    # Filter out questions that do not start with \"WHAT\"\n",
    "    if nlp_sent[0].text != 'What' and \"What's\" in question:\n",
    "        return None, None\n",
    "    \n",
    "    pos_per_tokens = [token.pos_ for token in nlp_sent]\n",
    "    \n",
    "    # 0). No AUX found (do nothing)\n",
    "    if 'AUX' not in pos_per_tokens:\n",
    "        return None, None\n",
    "    \n",
    "    aux_idx = pos_per_tokens.index(\"AUX\")\n",
    "    sent_start_from_aux = [token.text for token in nlp_sent][aux_idx:]\n",
    "    pos_start_from_aux = pos_per_tokens[aux_idx:]\n",
    "    \n",
    "    # Then we go into branches \n",
    "    \n",
    "    # No verb situation\n",
    "    if 'VERB' not in pos_start_from_aux:\n",
    "        # 2). \"AUX ADP...?\" -> \"AUX [ANSWER] ADP ...?\"\n",
    "        # This assumes no NOUN, we insert answer as NOUN\n",
    "        if 'ADP' in pos_start_from_aux:\n",
    "            return join_cap_sent([sent_start_from_aux[0], answer1] + sent_start_from_aux[1:], answer1), join_cap_sent([sent_start_from_aux[0], answer2] + sent_start_from_aux[1:], answer2)\n",
    "        # 1). \"AUX..NOUN?\" -> \"AUX..NOUN [ANSWER]\"\n",
    "        # directly append to the last part before PUNCT\n",
    "        elif 'NOUN' in pos_start_from_aux:\n",
    "            return join_cap_sent(sent_start_from_aux[:-1] + [answer1, '?'], answer1), join_cap_sent(sent_start_from_aux[:-1] + [answer2, '?'], answer2)\n",
    "    else:\n",
    "        # 3). \"AUX..VERB..?\"\n",
    "        # a). \"AUX PRON/NOUN doing\" -> \"AUX PRON/NOUN [ANSWER]...?\" (special case)\n",
    "        verb_idx = pos_per_tokens.index('VERB')\n",
    "        VERB_FORM = check_verb(nlp_sent[verb_idx])\n",
    "\n",
    "        if 'doing' in sent_start_from_aux:\n",
    "            # replace \"doing\" with the answer\n",
    "            new_sent_1 = copy(sent_start_from_aux)\n",
    "            new_sent_2 = copy(sent_start_from_aux)\n",
    "            new_sent_1[new_sent_1.index('doing')] = answer1\n",
    "            new_sent_2[new_sent_2.index('doing')] = answer2\n",
    "            return join_cap_sent(new_sent_1, answer1), join_cap_sent(new_sent_2, answer2)\n",
    "        \n",
    "        # d). \"AUX ... PRON/NOUN VERB ADP..ADP..?\" -> \"AUX PRON/NOUN VERB ADP...ADP [ANSWER] ...?\"\n",
    "        elif check_adp_immediately_after_verb(pos_start_from_aux) and check_pron_or_noun_before_verb(pos_start_from_aux) and VERB_FORM == 'INTRANVERB':\n",
    "            right_most_adp_idx = get_right_most_idx(pos_start_from_aux, 'ADP')\n",
    "            return join_cap_sent(sent_start_from_aux[:right_most_adp_idx+1] + [answer1] + sent_start_from_aux[right_most_adp_idx+1:], answer1), \\\n",
    "                        join_cap_sent(sent_start_from_aux[:right_most_adp_idx+1] + [answer2] + sent_start_from_aux[right_most_adp_idx+1:], answer2)\n",
    "        # c). \"AUX VERB ...?\" -> \"AUX [ANSWER] VERB ...?\"\n",
    "        elif pos_start_from_aux.index(\"VERB\") - pos_start_from_aux.index(\"AUX\") == 1:\n",
    "            verb_idx = pos_start_from_aux.index(\"VERB\")\n",
    "            # insert answer before the verb!\n",
    "            return join_cap_sent(sent_start_from_aux[:verb_idx] + [answer1] + sent_start_from_aux[verb_idx:], answer1), \\\n",
    "                    join_cap_sent(sent_start_from_aux[:verb_idx] + [answer2] + sent_start_from_aux[verb_idx:], answer2)\n",
    "        # b). \"AUX ... PRON/NOUN VERB...?\" -> \"AUX PRON/NOUN VERB [ANSWER] ...?\"\n",
    "        elif check_pron_or_noun_before_verb(pos_start_from_aux):\n",
    "            verb_idx = pos_start_from_aux.index(\"VERB\")\n",
    "            # insert answer right after the verb\n",
    "            return join_cap_sent(sent_start_from_aux[:verb_idx+1] + [answer1] + sent_start_from_aux[verb_idx+1:], answer1), \\\n",
    "                    join_cap_sent(sent_start_from_aux[:verb_idx+1] + [answer2] + sent_start_from_aux[verb_idx+1:], answer2)\n",
    "\n",
    "    return None, None"
   ]
  },
  {
   "cell_type": "code",
   "execution_count": 40,
   "metadata": {},
   "outputs": [
    {
     "name": "stdout",
     "output_type": "stream",
     "text": [
      "do you see in the sandwich?\n",
      "AUX PRON VERB ADP DET NOUN PUNCT\n"
     ]
    }
   ],
   "source": [
    "show_pos(\"do you see in the sandwich?\")"
   ]
  },
  {
   "cell_type": "code",
   "execution_count": 43,
   "metadata": {},
   "outputs": [
    {
     "name": "stdout",
     "output_type": "stream",
     "text": [
      "is the hot dog sitting on top of?\n",
      "AUX DET ADJ NOUN VERB ADP NOUN ADP PUNCT\n"
     ]
    }
   ],
   "source": [
    "show_pos(\"is the hot dog sitting on top of?\")"
   ]
  },
  {
   "cell_type": "code",
   "execution_count": 46,
   "metadata": {},
   "outputs": [
    {
     "data": {
      "text/plain": [
       "'TRANVERB'"
      ]
     },
     "execution_count": 46,
     "metadata": {},
     "output_type": "execute_result"
    }
   ],
   "source": [
    "nlp_sent = nlp(\"What do you see in the sandwich?\")\n",
    "check_verb(nlp_sent[3])"
   ]
  },
  {
   "cell_type": "code",
   "execution_count": 47,
   "metadata": {},
   "outputs": [
    {
     "data": {
      "text/plain": [
       "'INTRANVERB'"
      ]
     },
     "execution_count": 47,
     "metadata": {},
     "output_type": "execute_result"
    }
   ],
   "source": [
    "nlp_sent = nlp(\"What is the hot dog sitting on top of?\")\n",
    "check_verb(nlp_sent[5])"
   ]
  },
  {
   "cell_type": "code",
   "execution_count": 147,
   "metadata": {},
   "outputs": [
    {
     "data": {
      "text/plain": [
       "('Is the bowl brown ?', 'Is the bowl blue ?')"
      ]
     },
     "execution_count": 147,
     "metadata": {},
     "output_type": "execute_result"
    }
   ],
   "source": [
    "rephrase(\"What color is the bowl?\", \"brown\", \"blue\")"
   ]
  },
  {
   "cell_type": "code",
   "execution_count": 148,
   "metadata": {},
   "outputs": [
    {
     "data": {
      "text/plain": [
       "('Is truck on the left ?', 'Is train on the left ?')"
      ]
     },
     "execution_count": 148,
     "metadata": {},
     "output_type": "execute_result"
    }
   ],
   "source": [
    "rephrase(\"What kind of vehicle is on the left?\", \"truck\", \"train\")"
   ]
  },
  {
   "cell_type": "code",
   "execution_count": 149,
   "metadata": {},
   "outputs": [
    {
     "data": {
      "text/plain": [
       "('Is frisbee in the dogs mouth ?', 'Is teddy bear in the dogs mouth ?')"
      ]
     },
     "execution_count": 149,
     "metadata": {},
     "output_type": "execute_result"
    }
   ],
   "source": [
    "rephrase(\"What is in the dogs mouth?\", \"frisbee\", \"teddy bear\")"
   ]
  },
  {
   "cell_type": "code",
   "execution_count": 150,
   "metadata": {},
   "outputs": [
    {
     "data": {
      "text/plain": [
       "('Are the people skiing ?', 'Are the people snowboarding ?')"
      ]
     },
     "execution_count": 150,
     "metadata": {},
     "output_type": "execute_result"
    }
   ],
   "source": [
    "rephrase(\"What are the people doing?\", \"skiing\", \"snowboarding\")"
   ]
  },
  {
   "cell_type": "code",
   "execution_count": 151,
   "metadata": {},
   "outputs": [
    {
     "data": {
      "text/plain": [
       "('Does it say no entry on the ground ?', 'Does it say clear on the ground ?')"
      ]
     },
     "execution_count": 151,
     "metadata": {},
     "output_type": "execute_result"
    }
   ],
   "source": [
    "rephrase(\"What does it say on the ground?\", \"no entry\", \"clear\")"
   ]
  },
  {
   "cell_type": "code",
   "execution_count": 152,
   "metadata": {},
   "outputs": [
    {
     "data": {
      "text/plain": [
       "('Is this person riding mountain bike ?', 'Is this person riding motorcycle ?')"
      ]
     },
     "execution_count": 152,
     "metadata": {},
     "output_type": "execute_result"
    }
   ],
   "source": [
    "rephrase(\"What kind of bike is this person riding?\", \"mountain bike\", \"motorcycle\")"
   ]
  },
  {
   "cell_type": "code",
   "execution_count": 166,
   "metadata": {},
   "outputs": [
    {
     "data": {
      "text/plain": [
       "('Is snow covering the ground ?', 'Is sand covering the ground ?')"
      ]
     },
     "execution_count": 166,
     "metadata": {},
     "output_type": "execute_result"
    }
   ],
   "source": [
    "rephrase(\"What is covering the ground?\", 'snow', 'sand')"
   ]
  },
  {
   "cell_type": "code",
   "execution_count": 61,
   "metadata": {},
   "outputs": [
    {
     "data": {
      "text/plain": [
       "('Is the hot dog sitting on top of paper ?',\n",
       " 'Is the hot dog sitting on top of bun ?')"
      ]
     },
     "execution_count": 61,
     "metadata": {},
     "output_type": "execute_result"
    }
   ],
   "source": [
    "rephrase(\"What is the hot dog sitting on top of?\", \"paper\", 'bun')"
   ]
  },
  {
   "cell_type": "code",
   "execution_count": 50,
   "metadata": {},
   "outputs": [
    {
     "data": {
      "text/plain": [
       "('Is beef on this sandwich ?', 'Is chicken on this sandwich ?')"
      ]
     },
     "execution_count": 50,
     "metadata": {},
     "output_type": "execute_result"
    }
   ],
   "source": [
    "rephrase(\"What kinds of meat is on this sandwich?\", 'beef', 'chicken')"
   ]
  },
  {
   "cell_type": "code",
   "execution_count": 62,
   "metadata": {},
   "outputs": [
    {
     "data": {
      "text/plain": [
       "('Is klm on the airplane ?', 'Is jet blue on the airplane ?')"
      ]
     },
     "execution_count": 62,
     "metadata": {},
     "output_type": "execute_result"
    }
   ],
   "source": [
    "rephrase(\"What letters are on the airplane?\", 'klm', 'jet blue')"
   ]
  },
  {
   "cell_type": "code",
   "execution_count": 52,
   "metadata": {},
   "outputs": [
    {
     "data": {
      "text/plain": [
       "('Do you see ham in the sandwich ?', 'Do you see chicken in the sandwich ?')"
      ]
     },
     "execution_count": 52,
     "metadata": {},
     "output_type": "execute_result"
    }
   ],
   "source": [
    "rephrase(\"What type of meat do you see in the sandwich?\", \"ham\", \"chicken\")"
   ]
  },
  {
   "cell_type": "code",
   "execution_count": 63,
   "metadata": {},
   "outputs": [
    {
     "data": {
      "text/plain": [
       "('Are apples in the bottom right corner ?',\n",
       " 'Is orange in the bottom right corner ?')"
      ]
     },
     "execution_count": 63,
     "metadata": {},
     "output_type": "execute_result"
    }
   ],
   "source": [
    "rephrase('What type of fruit is in the bottom right corner?', 'apples', 'orange')"
   ]
  },
  {
   "cell_type": "code",
   "execution_count": 49,
   "metadata": {},
   "outputs": [
    {
     "data": {
      "text/plain": [
       "'TRANVERB'"
      ]
     },
     "execution_count": 49,
     "metadata": {},
     "output_type": "execute_result"
    }
   ],
   "source": [
    "sent = 'What does it say on the ground?'\n",
    "check_verb(nlp(sent)[3])"
   ]
  },
  {
   "cell_type": "code",
   "execution_count": 83,
   "metadata": {},
   "outputs": [
    {
     "data": {
      "text/plain": [
       "'INTRANVERB'"
      ]
     },
     "execution_count": 83,
     "metadata": {},
     "output_type": "execute_result"
    }
   ],
   "source": [
    "sent = 'What is the hot dog sitting on top of?'\n",
    "check_verb(nlp(sent)[5])"
   ]
  },
  {
   "cell_type": "code",
   "execution_count": 101,
   "metadata": {},
   "outputs": [
    {
     "data": {
      "text/plain": [
       "'TRANVERB'"
      ]
     },
     "execution_count": 101,
     "metadata": {},
     "output_type": "execute_result"
    }
   ],
   "source": [
    "sent = 'What did the girl give to the man?'\n",
    "check_verb(nlp(sent)[4])"
   ]
  },
  {
   "cell_type": "code",
   "execution_count": 145,
   "metadata": {},
   "outputs": [
    {
     "data": {
      "text/plain": [
       "'INTRANVERB'"
      ]
     },
     "execution_count": 145,
     "metadata": {},
     "output_type": "execute_result"
    }
   ],
   "source": [
    "sent = 'What kind of bike is this person riding?'\n",
    "check_verb(nlp(sent)[-2])"
   ]
  },
  {
   "cell_type": "code",
   "execution_count": 142,
   "metadata": {},
   "outputs": [
    {
     "data": {
      "text/plain": [
       "'TRANVERB'"
      ]
     },
     "execution_count": 142,
     "metadata": {},
     "output_type": "execute_result"
    }
   ],
   "source": [
    "sent = 'The girl is riding a bicycle'\n",
    "check_verb(nlp(sent)[3])"
   ]
  },
  {
   "cell_type": "code",
   "execution_count": 61,
   "metadata": {},
   "outputs": [
    {
     "name": "stdout",
     "output_type": "stream",
     "text": [
      "Is it a crow?\n",
      "AUX PRON DET NOUN PUNCT\n"
     ]
    }
   ],
   "source": [
    "show_pos(\"Is it a crow?\")"
   ]
  },
  {
   "cell_type": "code",
   "execution_count": 62,
   "metadata": {},
   "outputs": [
    {
     "name": "stdout",
     "output_type": "stream",
     "text": [
      "Is on the left?\n",
      "AUX ADP DET NOUN PUNCT\n"
     ]
    }
   ],
   "source": [
    "show_pos(\"Is on the left?\")"
   ]
  },
  {
   "cell_type": "code",
   "execution_count": 77,
   "metadata": {},
   "outputs": [
    {
     "data": {
      "text/plain": [
       "'PROPN'"
      ]
     },
     "execution_count": 77,
     "metadata": {},
     "output_type": "execute_result"
    }
   ],
   "source": [
    "nlp(\"yellow\")[-1].pos_"
   ]
  },
  {
   "cell_type": "code",
   "execution_count": 75,
   "metadata": {},
   "outputs": [
    {
     "data": {
      "text/plain": [
       "'PROPN'"
      ]
     },
     "execution_count": 75,
     "metadata": {},
     "output_type": "execute_result"
    }
   ],
   "source": [
    "nlp(\"white\")[-1].pos_"
   ]
  },
  {
   "cell_type": "code",
   "execution_count": 76,
   "metadata": {},
   "outputs": [
    {
     "data": {
      "text/plain": [
       "'NOUN'"
      ]
     },
     "execution_count": 76,
     "metadata": {},
     "output_type": "execute_result"
    }
   ],
   "source": [
    "nlp(\"truck\")[-1].pos_"
   ]
  },
  {
   "cell_type": "code",
   "execution_count": 80,
   "metadata": {},
   "outputs": [
    {
     "data": {
      "text/plain": [
       "'NOUN'"
      ]
     },
     "execution_count": 80,
     "metadata": {},
     "output_type": "execute_result"
    }
   ],
   "source": [
    "nlp(\"evening\")[-1].pos_"
   ]
  },
  {
   "cell_type": "markdown",
   "metadata": {},
   "source": [
    "### Check Stats\n",
    "\n",
    "Now we run the transformation and see how many came up non-empty"
   ]
  },
  {
   "cell_type": "code",
   "execution_count": 13,
   "metadata": {},
   "outputs": [],
   "source": [
    "from tqdm import tqdm"
   ]
  },
  {
   "cell_type": "code",
   "execution_count": 19,
   "metadata": {
    "scrolled": true
   },
   "outputs": [
    {
     "name": "stderr",
     "output_type": "stream",
     "text": [
      "100%|██████████| 91041/91041 [17:44<00:00, 85.51it/s] \n"
     ]
    }
   ],
   "source": [
    "non_empty_train = 0\n",
    "for d in tqdm(train_data):\n",
    "    pq1, pq2 = rephrase(d['question'], d['answer1'], d['answer2'])\n",
    "    if pq1 is not None:\n",
    "        non_empty_train += 1"
   ]
  },
  {
   "cell_type": "code",
   "execution_count": 20,
   "metadata": {},
   "outputs": [
    {
     "data": {
      "text/plain": [
       "66416"
      ]
     },
     "execution_count": 20,
     "metadata": {},
     "output_type": "execute_result"
    }
   ],
   "source": [
    "non_empty_train"
   ]
  },
  {
   "cell_type": "code",
   "execution_count": 21,
   "metadata": {},
   "outputs": [
    {
     "data": {
      "text/plain": [
       "75291"
      ]
     },
     "execution_count": 21,
     "metadata": {},
     "output_type": "execute_result"
    }
   ],
   "source": [
    "number_of_what_qs = 0\n",
    "for d in train_data:\n",
    "    if 'What' in d['question']:\n",
    "        number_of_what_qs += 1\n",
    "number_of_what_qs"
   ]
  },
  {
   "cell_type": "code",
   "execution_count": 14,
   "metadata": {},
   "outputs": [
    {
     "name": "stderr",
     "output_type": "stream",
     "text": [
      "100%|██████████| 42623/42623 [08:22<00:00, 84.88it/s] \n"
     ]
    }
   ],
   "source": [
    "non_empty_val = 0\n",
    "for d in tqdm(val_data):\n",
    "    pq1, pq2 = rephrase(d['question'], d['answer1'], d['answer2'])\n",
    "    if pq1 is not None:\n",
    "        non_empty_val += 1"
   ]
  },
  {
   "cell_type": "code",
   "execution_count": 15,
   "metadata": {},
   "outputs": [
    {
     "data": {
      "text/plain": [
       "30791"
      ]
     },
     "execution_count": 15,
     "metadata": {},
     "output_type": "execute_result"
    }
   ],
   "source": [
    "non_empty_val"
   ]
  },
  {
   "cell_type": "code",
   "execution_count": 16,
   "metadata": {},
   "outputs": [],
   "source": [
    "number_of_what_qs = 0\n",
    "for d in val_data:\n",
    "    if 'What' in d['question']:\n",
    "        number_of_what_qs += 1"
   ]
  },
  {
   "cell_type": "code",
   "execution_count": 17,
   "metadata": {},
   "outputs": [
    {
     "data": {
      "text/plain": [
       "35183"
      ]
     },
     "execution_count": 17,
     "metadata": {},
     "output_type": "execute_result"
    }
   ],
   "source": [
    "number_of_what_qs"
   ]
  },
  {
   "cell_type": "code",
   "execution_count": 18,
   "metadata": {},
   "outputs": [
    {
     "data": {
      "text/plain": [
       "91041"
      ]
     },
     "execution_count": 18,
     "metadata": {},
     "output_type": "execute_result"
    }
   ],
   "source": [
    "len(train_data)"
   ]
  },
  {
   "cell_type": "code",
   "execution_count": 22,
   "metadata": {},
   "outputs": [
    {
     "data": {
      "text/plain": [
       "42623"
      ]
     },
     "execution_count": 22,
     "metadata": {},
     "output_type": "execute_result"
    }
   ],
   "source": [
    "len(val_data)"
   ]
  },
  {
   "cell_type": "markdown",
   "metadata": {},
   "source": [
    "## Load Data"
   ]
  },
  {
   "cell_type": "code",
   "execution_count": 70,
   "metadata": {},
   "outputs": [],
   "source": [
    "import json\n",
    "train_what_rephrased = json.load(open(\"./data/vqa/pragmatic_other_train_what_rephrased.json\"))\n",
    "val_what_rephrased = json.load(open(\"./data/vqa/pragmatic_other_val_what_rephrased.json\"))"
   ]
  },
  {
   "cell_type": "code",
   "execution_count": 71,
   "metadata": {},
   "outputs": [],
   "source": [
    "def display_rephrased(data, ranges):\n",
    "    \"\"\"\n",
    "    This only shows rephrased with original, and answers\n",
    "    \"\"\"\n",
    "    for idx in ranges:\n",
    "        print(\"Pragmatic Q3:\", data[idx]['question'])\n",
    "        print(\"Literal Q1:\", data[idx]['literal_question1'])\n",
    "        print(\"Literal Q2:\", data[idx]['literal_question2'])\n",
    "        print()"
   ]
  },
  {
   "cell_type": "code",
   "execution_count": 72,
   "metadata": {
    "scrolled": false
   },
   "outputs": [
    {
     "name": "stdout",
     "output_type": "stream",
     "text": [
      "Pragmatic Q3: What type of fruit is in the bottom right corner?\n",
      "Literal Q1: Are apples in the bottom right corner ?\n",
      "Literal Q2: Is orange in the bottom right corner ?\n",
      "\n",
      "Pragmatic Q3: What color is the plate?\n",
      "Literal Q1: Is the plate blue and white ?\n",
      "Literal Q2: Is the plate white ?\n",
      "\n",
      "Pragmatic Q3: What type of meat do you see in the sandwich?\n",
      "Literal Q1: Does you see chicken in the sandwich ?\n",
      "Literal Q2: Does you see ham in the sandwich ?\n",
      "\n",
      "Pragmatic Q3: What color is the spot below the cat's nose?\n",
      "Literal Q1: Is black the spot below the cat 's nose ?\n",
      "Literal Q2: Is white the spot below the cat 's nose ?\n",
      "\n",
      "Pragmatic Q3: What does the photo say at the bottom?\n",
      "Literal Q1: Does the photo say dutchsimba at the bottom ?\n",
      "Literal Q2: Does the photo say nothing at the bottom ?\n",
      "\n",
      "Pragmatic Q3: What color is the bowl?\n",
      "Literal Q1: Is the bowl brown ?\n",
      "Literal Q2: Is the bowl white ?\n",
      "\n",
      "Pragmatic Q3: What does it say on the ground?\n",
      "Literal Q1: Does it say no entry on the ground ?\n",
      "Literal Q2: Does it say clear on the ground ?\n",
      "\n",
      "Pragmatic Q3: What color is the lamp post on the left side?\n",
      "Literal Q1: Is yellow the lamp post on the left side ?\n",
      "Literal Q2: Is gray the lamp post on the left side ?\n",
      "\n",
      "Pragmatic Q3: What kind of bike is this person riding?\n",
      "Literal Q1: Is this person riding mountain bike ?\n",
      "Literal Q2: Is this person riding motorcycle ?\n",
      "\n",
      "Pragmatic Q3: What is on the window sill?\n",
      "Literal Q1: Is apple and banana on the window sill ?\n",
      "Literal Q2: Is cat on the window sill ?\n",
      "\n",
      "Pragmatic Q3: What color is the trailer?\n",
      "Literal Q1: Is the trailer orange ?\n",
      "Literal Q2: Is the trailer white ?\n",
      "\n",
      "Pragmatic Q3: What kind of vehicle is on the left?\n",
      "Literal Q1: Is truck on the left ?\n",
      "Literal Q2: Is train on the left ?\n",
      "\n",
      "Pragmatic Q3: What is covering the ground?\n",
      "Literal Q1: Is snow covering the ground ?\n",
      "Literal Q2: Is sand covering the ground ?\n",
      "\n",
      "Pragmatic Q3: What is in the dogs mouth?\n",
      "Literal Q1: Is frisbee in the dogs mouth ?\n",
      "Literal Q2: Is teddy bear in the dogs mouth ?\n",
      "\n",
      "Pragmatic Q3: What are the people doing?\n",
      "Literal Q1: Is the people skiing ?\n",
      "Literal Q2: Is the people snowboarding ?\n",
      "\n",
      "Pragmatic Q3: What drink is in the can?\n",
      "Literal Q1: Is hawaiian punch in the can ?\n",
      "Literal Q2: Is soda in the can ?\n",
      "\n",
      "Pragmatic Q3: What is the hot dog sitting on top of?\n",
      "Literal Q1: Is the hot dog sitting on top of paper ?\n",
      "Literal Q2: Is the hot dog sitting on top of bun ?\n",
      "\n",
      "Pragmatic Q3: What color are the walls?\n",
      "Literal Q1: Is the walls white ?\n",
      "Literal Q2: Is the walls green ?\n",
      "\n",
      "Pragmatic Q3: What is the animal doing?\n",
      "Literal Q1: Is the animal laying down ?\n",
      "Literal Q2: Is the animal standing ?\n",
      "\n",
      "Pragmatic Q3: What is the source of heat?\n",
      "Literal Q1: Is radiator the source of heat ?\n",
      "Literal Q2: Is heater the source of heat ?\n",
      "\n",
      "Pragmatic Q3: What brand are the mice?\n",
      "Literal Q1: Is the mice dell ?\n",
      "Literal Q2: Is the mice logitech ?\n",
      "\n",
      "Pragmatic Q3: What is in the player's hands?\n",
      "Literal Q1: Is baseball bat in the player 's hands ?\n",
      "Literal Q2: Is mitt in the player 's hands ?\n",
      "\n",
      "Pragmatic Q3: What color is the sink?\n",
      "Literal Q1: Is the sink silver ?\n",
      "Literal Q2: Is the sink white ?\n",
      "\n",
      "Pragmatic Q3: What color is the sky?\n",
      "Literal Q1: Is the sky blue ?\n",
      "Literal Q2: Is the sky gray ?\n",
      "\n",
      "Pragmatic Q3: What letters are on the airplane?\n",
      "Literal Q1: Is klm on the airplane ?\n",
      "Literal Q2: Is jetblue on the airplane ?\n",
      "\n",
      "Pragmatic Q3: What color is the cat of the fridge?\n",
      "Literal Q1: Is calico the cat of the fridge ?\n",
      "Literal Q2: Is white and brown the cat of the fridge ?\n",
      "\n",
      "Pragmatic Q3: What are the people doing?\n",
      "Literal Q1: Is the people sunbathing ?\n",
      "Literal Q2: Is the people flying kites ?\n",
      "\n",
      "Pragmatic Q3: What color are most of the umbrellas?\n",
      "Literal Q1: Is orange most of the umbrellas ?\n",
      "Literal Q2: Is blue most of the umbrellas ?\n",
      "\n",
      "Pragmatic Q3: What is this vehicle?\n",
      "Literal Q1: Is this vehicle motorcycle ?\n",
      "Literal Q2: Is this vehicle bike ?\n",
      "\n",
      "Pragmatic Q3: What part of the newspaper is the baby looking at?\n",
      "Literal Q1: Are the baby looking at comics ?\n",
      "Literal Q2: Are the baby looking at ads ?\n",
      "\n",
      "Pragmatic Q3: What is the flag on the tallest pole?\n",
      "Literal Q1: Is american the flag on the tallest pole ?\n",
      "Literal Q2: Is chinese the flag on the tallest pole ?\n",
      "\n",
      "Pragmatic Q3: What gender is holding the remote?\n",
      "Literal Q1: Is male holding the remote ?\n",
      "Literal Q2: Is male and female holding the remote ?\n",
      "\n",
      "Pragmatic Q3: What color is the man on the left's shirt?\n",
      "Literal Q1: Is pink the man on the left 's shirt ?\n",
      "Literal Q2: Is white the man on the left 's shirt ?\n",
      "\n",
      "Pragmatic Q3: What is the purpose of the umbrella?\n",
      "Literal Q1: Is shade the purpose of the umbrella ?\n",
      "Literal Q2: Is protection the purpose of the umbrella ?\n",
      "\n",
      "Pragmatic Q3: What does the little chain do?\n",
      "Literal Q1: Does the little chain do open and close ?\n",
      "Literal Q2: Does the little chain do no chain ?\n",
      "\n",
      "Pragmatic Q3: What is on top of the steeple?\n",
      "Literal Q1: Is cross on top of the steeple ?\n",
      "Literal Q2: Is point on top of the steeple ?\n",
      "\n",
      "Pragmatic Q3: What does the boy have in his hand?\n",
      "Literal Q1: Does wii remote the boy have in his hand ?\n",
      "Literal Q2: Does cell phone the boy have in his hand ?\n",
      "\n",
      "Pragmatic Q3: What color is the cupcake?\n",
      "Literal Q1: Is the cupcake orange ?\n",
      "Literal Q2: Is the cupcake white ?\n",
      "\n",
      "Pragmatic Q3: What is on the wrist of the women?\n",
      "Literal Q1: Is watch on the wrist of the women ?\n",
      "Literal Q2: Is nothing on the wrist of the women ?\n",
      "\n",
      "Pragmatic Q3: What animal is in the photo?\n",
      "Literal Q1: Is sheep in the photo ?\n",
      "Literal Q2: Is horse in the photo ?\n",
      "\n"
     ]
    }
   ],
   "source": [
    "display_rephrased(train_what_rephrased, range(40))"
   ]
  },
  {
   "cell_type": "code",
   "execution_count": null,
   "metadata": {},
   "outputs": [],
   "source": []
  }
 ],
 "metadata": {
  "kernelspec": {
   "display_name": "Python 3",
   "language": "python",
   "name": "python3"
  },
  "language_info": {
   "codemirror_mode": {
    "name": "ipython",
    "version": 3
   },
   "file_extension": ".py",
   "mimetype": "text/x-python",
   "name": "python",
   "nbconvert_exporter": "python",
   "pygments_lexer": "ipython3",
   "version": "3.7.3"
  }
 },
 "nbformat": 4,
 "nbformat_minor": 2
}
